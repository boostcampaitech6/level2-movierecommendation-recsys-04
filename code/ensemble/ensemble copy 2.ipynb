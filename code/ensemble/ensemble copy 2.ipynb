{
 "cells": [
  {
   "cell_type": "code",
   "execution_count": 1,
   "metadata": {},
   "outputs": [],
   "source": [
    "import os\n",
    "import argparse\n",
    "import pandas as pd\n",
    "import math\n",
    "from tqdm import tqdm"
   ]
  },
  {
   "cell_type": "code",
   "execution_count": 2,
   "metadata": {},
   "outputs": [],
   "source": [
    "parser = argparse.ArgumentParser(description=\"parser\")\n",
    "arg = parser.add_argument\n",
    "\n",
    "arg(\"--file_path\", \"-fp\", type=str, default=\"./ensembles/\", help='앙상블 파일 열기 경로')\n",
    "arg(\"--result_path\", \"-rp\", type=str, default=\"./submit/\", help='앙상블 결과 저장 경로')\n",
    "arg(\"--files\", \"-f\", nargs=\"+\", default=\"ease.csv,admmslim.csv,cdae.csv,deepfm.csv,lightgcn.csv,multidae.csv,multivae.csv,sasrec.csv\", type=lambda s: [item for item in s.split(\",\")], help=\"앙상블 파일명(쉼표 구분)\")\n",
    "arg(\"--weight\", \"-w\", nargs=\"+\", default=\"5,3,1,1,1,1,1,1\", type=lambda s: [float(item) for item in s.split(\",\")], help=\"앙상블 모델 가중치 설정\")\n",
    "\n",
    "args = parser.parse_args([])\n"
   ]
  },
  {
   "cell_type": "code",
   "execution_count": 3,
   "metadata": {},
   "outputs": [],
   "source": [
    "os.makedirs(args.file_path, exist_ok=True)  # 읽어들일 파일 경로\n",
    "os.makedirs(args.result_path, exist_ok=True)  # 결과 파일 저장 경로"
   ]
  },
  {
   "cell_type": "code",
   "execution_count": 4,
   "metadata": {},
   "outputs": [
    {
     "data": {
      "text/plain": [
       "[5.0, 3.0, 1.0, 1.0, 1.0, 1.0, 1.0, 1.0]"
      ]
     },
     "execution_count": 4,
     "metadata": {},
     "output_type": "execute_result"
    }
   ],
   "source": [
    "args.weight"
   ]
  },
  {
   "cell_type": "code",
   "execution_count": 5,
   "metadata": {},
   "outputs": [],
   "source": [
    "output_path = [args.file_path + file_name for file_name in args.files]  # 앙상블 할 파일 경로 리스트\n",
    "output_list = [pd.read_csv(path) for path in output_path]  # 앙상블 할 파일 리스트\n",
    "output_frame = pd.read_csv(output_path[0]).iloc[:, 0]"
   ]
  },
  {
   "cell_type": "code",
   "execution_count": 6,
   "metadata": {},
   "outputs": [],
   "source": [
    "user_list = output_frame.unique().tolist()"
   ]
  },
  {
   "cell_type": "code",
   "execution_count": 7,
   "metadata": {},
   "outputs": [],
   "source": [
    "weight_list = []\n",
    "for weight in args.weight:\n",
    "    weight = weight\n",
    "    weight_list.append(weight)"
   ]
  },
  {
   "cell_type": "code",
   "execution_count": 8,
   "metadata": {},
   "outputs": [],
   "source": [
    "concat_df = pd.DataFrame(columns=['user', 'item'])\n",
    "# 0번파일, 1번파일을 rank로 정렬하여 weight_list 비율로 뽑는다.\n",
    "for output in output_list:\n",
    "    concat_df = pd.concat([concat_df, output], axis=0)"
   ]
  },
  {
   "cell_type": "code",
   "execution_count": 9,
   "metadata": {},
   "outputs": [],
   "source": [
    "# duplication_list = []\n",
    "concat_df['count'] = 1"
   ]
  },
  {
   "cell_type": "code",
   "execution_count": 10,
   "metadata": {},
   "outputs": [],
   "source": [
    "concat_df = concat_df.groupby(['user', 'item']).count().reset_index()\n",
    "concat_df = concat_df[concat_df['count'] > len(output_list) - 1]"
   ]
  },
  {
   "cell_type": "code",
   "execution_count": 11,
   "metadata": {},
   "outputs": [
    {
     "data": {
      "text/html": [
       "<div>\n",
       "<style scoped>\n",
       "    .dataframe tbody tr th:only-of-type {\n",
       "        vertical-align: middle;\n",
       "    }\n",
       "\n",
       "    .dataframe tbody tr th {\n",
       "        vertical-align: top;\n",
       "    }\n",
       "\n",
       "    .dataframe thead th {\n",
       "        text-align: right;\n",
       "    }\n",
       "</style>\n",
       "<table border=\"1\" class=\"dataframe\">\n",
       "  <thead>\n",
       "    <tr style=\"text-align: right;\">\n",
       "      <th></th>\n",
       "      <th>user</th>\n",
       "      <th>item</th>\n",
       "      <th>count</th>\n",
       "    </tr>\n",
       "  </thead>\n",
       "  <tbody>\n",
       "    <tr>\n",
       "      <th>232</th>\n",
       "      <td>43</td>\n",
       "      <td>4973</td>\n",
       "      <td>8</td>\n",
       "    </tr>\n",
       "    <tr>\n",
       "      <th>253</th>\n",
       "      <td>50</td>\n",
       "      <td>778</td>\n",
       "      <td>8</td>\n",
       "    </tr>\n",
       "    <tr>\n",
       "      <th>380</th>\n",
       "      <td>61</td>\n",
       "      <td>2959</td>\n",
       "      <td>8</td>\n",
       "    </tr>\n",
       "    <tr>\n",
       "      <th>738</th>\n",
       "      <td>98</td>\n",
       "      <td>4993</td>\n",
       "      <td>8</td>\n",
       "    </tr>\n",
       "    <tr>\n",
       "      <th>744</th>\n",
       "      <td>98</td>\n",
       "      <td>7153</td>\n",
       "      <td>8</td>\n",
       "    </tr>\n",
       "    <tr>\n",
       "      <th>...</th>\n",
       "      <td>...</td>\n",
       "      <td>...</td>\n",
       "      <td>...</td>\n",
       "    </tr>\n",
       "    <tr>\n",
       "      <th>1201172</th>\n",
       "      <td>138473</td>\n",
       "      <td>318</td>\n",
       "      <td>8</td>\n",
       "    </tr>\n",
       "    <tr>\n",
       "      <th>1201176</th>\n",
       "      <td>138473</td>\n",
       "      <td>593</td>\n",
       "      <td>8</td>\n",
       "    </tr>\n",
       "    <tr>\n",
       "      <th>1201188</th>\n",
       "      <td>138473</td>\n",
       "      <td>7361</td>\n",
       "      <td>8</td>\n",
       "    </tr>\n",
       "    <tr>\n",
       "      <th>1201270</th>\n",
       "      <td>138492</td>\n",
       "      <td>296</td>\n",
       "      <td>8</td>\n",
       "    </tr>\n",
       "    <tr>\n",
       "      <th>1201286</th>\n",
       "      <td>138492</td>\n",
       "      <td>2918</td>\n",
       "      <td>8</td>\n",
       "    </tr>\n",
       "  </tbody>\n",
       "</table>\n",
       "<p>9672 rows × 3 columns</p>\n",
       "</div>"
      ],
      "text/plain": [
       "           user  item  count\n",
       "232          43  4973      8\n",
       "253          50   778      8\n",
       "380          61  2959      8\n",
       "738          98  4993      8\n",
       "744          98  7153      8\n",
       "...         ...   ...    ...\n",
       "1201172  138473   318      8\n",
       "1201176  138473   593      8\n",
       "1201188  138473  7361      8\n",
       "1201270  138492   296      8\n",
       "1201286  138492  2918      8\n",
       "\n",
       "[9672 rows x 3 columns]"
      ]
     },
     "execution_count": 11,
     "metadata": {},
     "output_type": "execute_result"
    }
   ],
   "source": [
    "concat_df"
   ]
  },
  {
   "cell_type": "code",
   "execution_count": 12,
   "metadata": {},
   "outputs": [],
   "source": [
    "concat_df = concat_df.groupby('user')['item'].apply(list).reset_index()\n",
    "temp_list = []\n",
    "for i in range(len(output_list)):\n",
    "    temp_list.append(output_list[i].groupby('user')['item'].apply(list).reset_index())"
   ]
  },
  {
   "cell_type": "code",
   "execution_count": 13,
   "metadata": {},
   "outputs": [
    {
     "data": {
      "text/plain": [
       "[         user                                               item\n",
       " 0          11  [4886, 4370, 47, 40815, 2, 33004, 7438, 7373, ...\n",
       " 1          14  [1907, 4963, 1198, 2011, 919, 1223, 4857, 588,...\n",
       " 2          18  [46578, 2692, 1193, 296, 2571, 50, 8873, 5995,...\n",
       " 3          25  [7153, 1270, 2762, 47, 1073, 1259, 2997, 1923,...\n",
       " 4          31  [6377, 8360, 34405, 79132, 2628, 68954, 60040,...\n",
       " ...       ...                                                ...\n",
       " 31355  138473  [48394, 5952, 593, 7438, 318, 50, 7361, 356, 7...\n",
       " 31356  138475  [2203, 2726, 930, 3307, 1223, 8491, 5291, 942,...\n",
       " 31357  138486  [5679, 8957, 1265, 8368, 588, 1097, 8636, 377,...\n",
       " 31358  138492  [2502, 5618, 2918, 3421, 296, 608, 260, 1265, ...\n",
       " 31359  138493  [2628, 32587, 8970, 8961, 110, 5349, 551, 4022...\n",
       " \n",
       " [31360 rows x 2 columns],\n",
       "          user                                               item\n",
       " 0          11  [40815, 4886, 7373, 8961, 2, 32587, 7438, 4370...\n",
       " 1          14  [5816, 4016, 2398, 52435, 1907, 919, 2011, 588...\n",
       " 2          18  [778, 2692, 2324, 50, 8873, 4226, 5995, 296, 1...\n",
       " 3          25  [2329, 608, 1206, 4226, 1221, 47, 7153, 1270, ...\n",
       " 4          31  [8360, 6377, 2628, 68358, 79132, 52722, 68954,...\n",
       " ...       ...                                                ...\n",
       " 31355  138473  [50, 5952, 7438, 7361, 593, 48394, 318, 1196, ...\n",
       " 31356  138475  [965, 2726, 5291, 942, 1945, 8491, 3334, 3307,...\n",
       " 31357  138486  [5679, 8861, 1219, 377, 8636, 589, 6539, 1097,...\n",
       " 31358  138492  [3897, 5618, 2502, 296, 3421, 260, 608, 1291, ...\n",
       " 31359  138493  [48394, 8961, 2628, 551, 5349, 1022, 293, 318,...\n",
       " \n",
       " [31360 rows x 2 columns],\n",
       "          user                                               item\n",
       " 0          11  [4370, 37386, 8957, 8360, 8861, 48780, 3981, 7...\n",
       " 1          14  [1907, 2398, 588, 4857, 1028, 1035, 1198, 5615...\n",
       " 2          18  [1172, 2329, 8638, 912, 46578, 8873, 1193, 296...\n",
       " 3          25  [2997, 7153, 1, 1206, 231, 1073, 1270, 47, 608...\n",
       " 4          31  [6377, 8360, 68954, 8644, 78499, 68358, 5349, ...\n",
       " ...       ...                                                ...\n",
       " 31355  138473  [318, 7361, 593, 48394, 356, 1258, 5952, 7438,...\n",
       " 31356  138475  [3030, 2726, 8228, 903, 750, 908, 5291, 904, 9...\n",
       " 31357  138486  [377, 296, 589, 1200, 1097, 5679, 8957, 2710, ...\n",
       " 31358  138492  [318, 1704, 608, 2395, 1265, 296, 2502, 3897, ...\n",
       " 31359  138493  [47, 551, 1270, 2011, 2012, 2174, 32, 2762, 33...\n",
       " \n",
       " [31360 rows x 2 columns],\n",
       "          user                                               item\n",
       " 0          11  [4993, 31696, 4878, 5218, 551, 6754, 8961, 780...\n",
       " 1          14  [2398, 8368, 1035, 40815, 2565, 914, 6539, 581...\n",
       " 2          18  [41285, 39183, 46723, 37741, 8949, 60950, 3316...\n",
       " 3          25  [4878, 4226, 7361, 1704, 2762, 2329, 2291, 127...\n",
       " 4          31  [68358, 59784, 53996, 60040, 63859, 72998, 689...\n",
       " ...       ...                                                ...\n",
       " 31355  138473  [5669, 4226, 593, 1258, 551, 6377, 356, 364, 3...\n",
       " 31356  138475  [5291, 750, 7926, 7766, 6643, 3030, 1283, 908,...\n",
       " 31357  138486  [1214, 2571, 589, 4993, 1210, 1196, 2959, 1200...\n",
       " 31358  138492  [2502, 296, 1136, 2918, 1089, 223, 5669, 608, ...\n",
       " 31359  138493  [593, 2762, 1258, 4896, 3578, 588, 318, 4226, ...\n",
       " \n",
       " [31360 rows x 2 columns],\n",
       "          user                                               item\n",
       " 0          11  [2, 4370, 4886, 37386, 8961, 8360, 924, 2617, ...\n",
       " 1          14  [4016, 5816, 8368, 1028, 1907, 6539, 1198, 408...\n",
       " 2          18  [5995, 48516, 41285, 46578, 39183, 56367, 4672...\n",
       " 3          25  [1270, 2762, 47, 2329, 1, 4226, 2997, 2291, 16...\n",
       " 4          31  [8644, 8636, 5349, 68358, 7454, 79132, 6377, 3...\n",
       " ...       ...                                                ...\n",
       " 31355  138473  [6502, 318, 7361, 593, 8950, 48780, 356, 48394...\n",
       " 31356  138475  [908, 904, 930, 5291, 8491, 2726, 750, 903, 22...\n",
       " 31357  138486  [1097, 592, 2571, 1200, 1198, 1214, 5679, 8957...\n",
       " 31358  138492  [2395, 4979, 223, 318, 2918, 296, 2502, 50, 60...\n",
       " 31359  138493  [2294, 32, 2012, 7147, 33615, 551, 2011, 2712,...\n",
       " \n",
       " [31360 rows x 2 columns],\n",
       "          user                                               item\n",
       " 0          11  [3986, 55232, 1831, 61350, 37386, 8861, 4886, ...\n",
       " 1          14  [2398, 6539, 4016, 1198, 2424, 3159, 919, 2080...\n",
       " 2          18  [46578, 296, 4235, 1193, 46723, 1446, 27815, 9...\n",
       " 3          25  [47, 608, 2329, 4226, 1073, 1270, 2997, 2762, ...\n",
       " 4          31  [79132, 5882, 70336, 5313, 49272, 5349, 78499,...\n",
       " ...       ...                                                ...\n",
       " 31355  138473  [6502, 318, 48394, 356, 7361, 593, 7438, 5952,...\n",
       " 31356  138475  [930, 8507, 1281, 4432, 3307, 7064, 6254, 2726...\n",
       " 31357  138486  [6539, 8957, 296, 2571, 1214, 1265, 2710, 4993...\n",
       " 31358  138492  [608, 2502, 1265, 1060, 8961, 3897, 2918, 296,...\n",
       " 31359  138493  [5349, 47, 4720, 53125, 593, 589, 2394, 2324, ...\n",
       " \n",
       " [31360 rows x 2 columns],\n",
       "          user                                               item\n",
       " 0          11  [3156, 4886, 8961, 3986, 55995, 2710, 1127, 43...\n",
       " 1          14  [1198, 4016, 1234, 1907, 1962, 914, 588, 1223,...\n",
       " 2          18  [46578, 1193, 2357, 50514, 4235, 2360, 2324, 2...\n",
       " 3          25  [2997, 2762, 608, 1259, 597, 47, 1270, 1073, 2...\n",
       " 4          31  [5349, 74530, 5313, 52722, 8644, 79132, 8360, ...\n",
       " ...       ...                                                ...\n",
       " 31355  138473  [7361, 318, 593, 5952, 356, 48394, 4973, 858, ...\n",
       " 31356  138475  [3307, 2203, 6669, 2726, 7064, 930, 8491, 6985...\n",
       " 31357  138486  [2571, 1200, 1970, 1097, 2710, 5679, 1214, 152...\n",
       " 31358  138492  [1265, 2502, 3897, 296, 2395, 1449, 2918, 2791...\n",
       " 31359  138493  [1270, 2628, 2012, 7147, 6365, 1240, 2174, 336...\n",
       " \n",
       " [31360 rows x 2 columns],\n",
       "          user                                               item\n",
       " 0          11  [4226, 50, 2329, 79132, 68237, 47, 63082, 4878...\n",
       " 1          14  [1028, 914, 1907, 1035, 539, 2398, 4025, 6183,...\n",
       " 2          18  [63082, 71033, 72386, 81845, 72011, 60950, 638...\n",
       " 3          25  [58559, 2329, 60069, 68954, 55820, 69122, 5524...\n",
       " 4          31  [5621, 6624, 6383, 6294, 54648, 6686, 86644, 7...\n",
       " ...       ...                                                ...\n",
       " 31355  138473  [3578, 593, 356, 7361, 318, 778, 5952, 61240, ...\n",
       " 31356  138475  [6611, 7926, 6126, 8491, 5291, 7700, 8239, 664...\n",
       " 31357  138486  [6502, 1200, 8957, 5679, 1214, 4878, 27584, 47...\n",
       " 31358  138492  [3210, 3671, 4979, 2918, 2109, 296, 1060, 223,...\n",
       " 31359  138493  [63082, 58559, 62999, 72998, 49272, 68358, 337...\n",
       " \n",
       " [31360 rows x 2 columns]]"
      ]
     },
     "execution_count": 13,
     "metadata": {},
     "output_type": "execute_result"
    }
   ],
   "source": [
    "concat_df\n",
    "temp_list"
   ]
  },
  {
   "cell_type": "code",
   "execution_count": 14,
   "metadata": {},
   "outputs": [
    {
     "name": "stderr",
     "output_type": "stream",
     "text": [
      "100%|██████████| 31360/31360 [01:49<00:00, 286.68it/s]\n"
     ]
    }
   ],
   "source": [
    "final_list = []\n",
    "for user in tqdm(user_list):\n",
    "    confirm_list = concat_df[concat_df['user'] == user]['item'].values\n",
    "    if len(confirm_list) > 0:\n",
    "        confirm_list = concat_df[concat_df['user'] == user]['item'].values[0]\n",
    "        decision_list = []\n",
    "        for temp in temp_list:\n",
    "            item = temp[temp['user'] == user]['item'].values[0]\n",
    "            for confirm in confirm_list:\n",
    "                if confirm in item:\n",
    "                    item.remove(confirm)\n",
    "            for weight in weight_list:\n",
    "                for i in range(len(item)):\n",
    "                    decision_list.append([item[i], weight])\n",
    "        temp_dic = {}\n",
    "        for k, v in decision_list:\n",
    "            if k in temp_dic:\n",
    "                temp_dic[k] = temp_dic[k] + v\n",
    "            else:\n",
    "                temp_dic[k] = v\n",
    "        item_list = [[k, v] for k, v in temp_dic.items()]\n",
    "        item_list.sort(key=lambda x:-x[1])\n",
    "        item_list = [k for k, v in item_list]\n",
    "        final_list.append([user, (confirm_list + item_list)[:10]])\n",
    "    else:\n",
    "        decision_list = []\n",
    "        for temp in temp_list:\n",
    "            item = temp[temp['user'] == user]['item'].values[0]\n",
    "            for weight in weight_list:\n",
    "                for i in range(len(item)):\n",
    "                    decision_list.append([item[i], weight])\n",
    "        temp_dic = {}\n",
    "        for k, v in decision_list:\n",
    "            if k in temp_dic:\n",
    "                temp_dic[k] = temp_dic[k] + v\n",
    "            else:\n",
    "                temp_dic[k] = v\n",
    "        item_list = [[k, v] for k, v in temp_dic.items()]\n",
    "        item_list.sort(key=lambda x:-x[1])\n",
    "        item_list = [k for k, v in item_list]\n",
    "        final_list.append([user, item_list[:10]])"
   ]
  },
  {
   "cell_type": "code",
   "execution_count": 17,
   "metadata": {},
   "outputs": [],
   "source": [
    "df = pd.DataFrame(final_list, columns=['user', 'item'])"
   ]
  },
  {
   "cell_type": "code",
   "execution_count": 28,
   "metadata": {},
   "outputs": [],
   "source": [
    "export = df.explode('item').reset_index(drop=True)"
   ]
  },
  {
   "cell_type": "code",
   "execution_count": 29,
   "metadata": {},
   "outputs": [
    {
     "data": {
      "text/html": [
       "<div>\n",
       "<style scoped>\n",
       "    .dataframe tbody tr th:only-of-type {\n",
       "        vertical-align: middle;\n",
       "    }\n",
       "\n",
       "    .dataframe tbody tr th {\n",
       "        vertical-align: top;\n",
       "    }\n",
       "\n",
       "    .dataframe thead th {\n",
       "        text-align: right;\n",
       "    }\n",
       "</style>\n",
       "<table border=\"1\" class=\"dataframe\">\n",
       "  <thead>\n",
       "    <tr style=\"text-align: right;\">\n",
       "      <th></th>\n",
       "      <th>user</th>\n",
       "      <th>item</th>\n",
       "    </tr>\n",
       "  </thead>\n",
       "  <tbody>\n",
       "    <tr>\n",
       "      <th>0</th>\n",
       "      <td>11</td>\n",
       "      <td>4886</td>\n",
       "    </tr>\n",
       "    <tr>\n",
       "      <th>1</th>\n",
       "      <td>11</td>\n",
       "      <td>4370</td>\n",
       "    </tr>\n",
       "    <tr>\n",
       "      <th>2</th>\n",
       "      <td>11</td>\n",
       "      <td>2</td>\n",
       "    </tr>\n",
       "    <tr>\n",
       "      <th>3</th>\n",
       "      <td>11</td>\n",
       "      <td>8961</td>\n",
       "    </tr>\n",
       "    <tr>\n",
       "      <th>4</th>\n",
       "      <td>11</td>\n",
       "      <td>40815</td>\n",
       "    </tr>\n",
       "    <tr>\n",
       "      <th>...</th>\n",
       "      <td>...</td>\n",
       "      <td>...</td>\n",
       "    </tr>\n",
       "    <tr>\n",
       "      <th>313595</th>\n",
       "      <td>138493</td>\n",
       "      <td>47</td>\n",
       "    </tr>\n",
       "    <tr>\n",
       "      <th>313596</th>\n",
       "      <td>138493</td>\n",
       "      <td>2011</td>\n",
       "    </tr>\n",
       "    <tr>\n",
       "      <th>313597</th>\n",
       "      <td>138493</td>\n",
       "      <td>2012</td>\n",
       "    </tr>\n",
       "    <tr>\n",
       "      <th>313598</th>\n",
       "      <td>138493</td>\n",
       "      <td>7147</td>\n",
       "    </tr>\n",
       "    <tr>\n",
       "      <th>313599</th>\n",
       "      <td>138493</td>\n",
       "      <td>8961</td>\n",
       "    </tr>\n",
       "  </tbody>\n",
       "</table>\n",
       "<p>313600 rows × 2 columns</p>\n",
       "</div>"
      ],
      "text/plain": [
       "          user   item\n",
       "0           11   4886\n",
       "1           11   4370\n",
       "2           11      2\n",
       "3           11   8961\n",
       "4           11  40815\n",
       "...        ...    ...\n",
       "313595  138493     47\n",
       "313596  138493   2011\n",
       "313597  138493   2012\n",
       "313598  138493   7147\n",
       "313599  138493   8961\n",
       "\n",
       "[313600 rows x 2 columns]"
      ]
     },
     "execution_count": 29,
     "metadata": {},
     "output_type": "execute_result"
    }
   ],
   "source": [
    "export"
   ]
  },
  {
   "cell_type": "code",
   "execution_count": 30,
   "metadata": {},
   "outputs": [],
   "source": [
    "export.to_csv(os.path.join(args.result_path, 'submit_data_weight.csv'), index=False)"
   ]
  }
 ],
 "metadata": {
  "kernelspec": {
   "display_name": "movie",
   "language": "python",
   "name": "python3"
  },
  "language_info": {
   "codemirror_mode": {
    "name": "ipython",
    "version": 3
   },
   "file_extension": ".py",
   "mimetype": "text/x-python",
   "name": "python",
   "nbconvert_exporter": "python",
   "pygments_lexer": "ipython3",
   "version": "3.10.13"
  }
 },
 "nbformat": 4,
 "nbformat_minor": 2
}
