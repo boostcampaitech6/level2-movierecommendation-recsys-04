{
 "cells": [
  {
   "cell_type": "code",
   "execution_count": 21,
   "metadata": {},
   "outputs": [],
   "source": [
    "import os\n",
    "import argparse\n",
    "import pandas as pd\n",
    "import math\n",
    "from tqdm import tqdm"
   ]
  },
  {
   "cell_type": "code",
   "execution_count": 22,
   "metadata": {},
   "outputs": [],
   "source": [
    "parser = argparse.ArgumentParser(description=\"parser\")\n",
    "arg = parser.add_argument\n",
    "\n",
    "arg(\"--file_path\", \"-fp\", type=str, default=\"./ensembles/\", help='앙상블 파일 열기 경로')\n",
    "arg(\"--result_path\", \"-rp\", type=str, default=\"./submit/\", help='앙상블 결과 저장 경로')\n",
    "arg(\"--files\", \"-f\", nargs=\"+\", default=\"submit_EASE_data_weight.csv,submit_MultiDAE_data_weight.csv\", type=lambda s: [item for item in s.split(\",\")], help=\"앙상블 파일명(쉼표 구분)\")\n",
    "arg(\"--weight\", \"-w\", nargs=\"+\", default=\"0.5,0.5\", type=lambda s: [float(item) for item in s.split(\",\")], help=\"앙상블 모델 가중치 설정\")\n",
    "arg(\"--strategy\", \"-s\", type=str, default=\"soft\", choices=[\"hard\", \"soft\"], help='앙상블 전략 선택')\n",
    "\n",
    "args = parser.parse_args([])"
   ]
  },
  {
   "cell_type": "code",
   "execution_count": 23,
   "metadata": {},
   "outputs": [],
   "source": [
    "os.makedirs(args.file_path, exist_ok=True)  # 읽어들일 파일 경로\n",
    "os.makedirs(args.result_path, exist_ok=True)  # 결과 파일 저장 경로"
   ]
  },
  {
   "cell_type": "code",
   "execution_count": 24,
   "metadata": {},
   "outputs": [
    {
     "data": {
      "text/plain": [
       "[0.5, 0.5]"
      ]
     },
     "execution_count": 24,
     "metadata": {},
     "output_type": "execute_result"
    }
   ],
   "source": [
    "args.weight"
   ]
  },
  {
   "cell_type": "code",
   "execution_count": 25,
   "metadata": {},
   "outputs": [],
   "source": [
    "file_list = []\n",
    "for filename in os.listdir(args.file_path):\n",
    "    file_path = os.path.join(args.file_path, filename)\n",
    "    if os.path.isfile(file_path):\n",
    "        file_list.append(filename[:-4])"
   ]
  },
  {
   "cell_type": "code",
   "execution_count": 26,
   "metadata": {},
   "outputs": [],
   "source": [
    "output_path = [args.file_path + file_name + \".csv\" for file_name in file_list]  # 앙상블 할 파일 경로 리스트\n",
    "output_list = [pd.read_csv(path) for path in output_path]  # 앙상블 할 파일 리스트\n",
    "output_frame = pd.read_csv(output_path[0]).iloc[:, 0]"
   ]
  },
  {
   "cell_type": "code",
   "execution_count": 27,
   "metadata": {},
   "outputs": [],
   "source": [
    "# item 데이터프레임과 item_score 데이터프레임을 각각 생성\n",
    "df_item = pd.DataFrame()\n",
    "df_item_score = pd.DataFrame()\n",
    "\n",
    "weight_list = []\n",
    "for weight in args.weight:\n",
    "    weight = weight\n",
    "    weight_list.append(weight)"
   ]
  },
  {
   "cell_type": "code",
   "execution_count": 28,
   "metadata": {},
   "outputs": [],
   "source": [
    "# 0번파일, 1번파일을 rank로 정렬하여 weight_list 비율로 뽑는다.\n",
    "for i in range(len(output_list)):\n",
    "    output_list[i].columns = ['user', 'item', 'score']\n",
    "    output_list[i]['rank'] = output_list[i].groupby('user')['score'].rank(ascending=False).astype(int)\n",
    "    # output_list[i] = output_list[i].sort_values(by=['user', 'rank']).groupby('user').head(weight_list[i])\n",
    "    output_list[i] = output_list[i].sort_values(by=['user', 'rank']).groupby('user').head(10)"
   ]
  },
  {
   "cell_type": "code",
   "execution_count": 29,
   "metadata": {},
   "outputs": [
    {
     "data": {
      "text/plain": [
       "[          user   item     score  rank\n",
       " 4           11  37386  4.509069     1\n",
       " 18          11   4370  4.127007     2\n",
       " 9           11      2  3.983931     3\n",
       " 17          11   4886  3.919075     4\n",
       " 3           11   3986  3.860288     5\n",
       " ...        ...    ...       ...   ...\n",
       " 627198  138493   5349  3.672185     6\n",
       " 627197  138493   2467  3.624843     7\n",
       " 627193  138493   4720  3.608522     8\n",
       " 627191  138493     47  3.584569     9\n",
       " 627195  138493    589  3.579309    10\n",
       " \n",
       " [313600 rows x 4 columns],\n",
       "           user   item     score  rank\n",
       " 8           11   4370  0.929520     1\n",
       " 9           11   4886  0.847820     2\n",
       " 11          11  40815  0.706278     3\n",
       " 10          11  32587  0.688193     4\n",
       " 13          11     47  0.670851     5\n",
       " ...        ...    ...       ...   ...\n",
       " 627189  138493   5349  0.608948     6\n",
       " 627188  138493  32587  0.584563     7\n",
       " 627182  138493   8970  0.553660     8\n",
       " 627195  138493  48394  0.551906     9\n",
       " 627196  138493   4022  0.543722    10\n",
       " \n",
       " [313600 rows x 4 columns]]"
      ]
     },
     "execution_count": 29,
     "metadata": {},
     "output_type": "execute_result"
    }
   ],
   "source": [
    "user_list = output_list[0]['user'].unique()\n",
    "output_list"
   ]
  },
  {
   "cell_type": "code",
   "execution_count": 30,
   "metadata": {},
   "outputs": [],
   "source": [
    "merge_df = output_list[0]\n",
    "for i in range(len(output_list)):\n",
    "    merge_df = merge_df.merge(output_list[i], on=['user', 'item'])[['user', 'item']]\n",
    "    output_list[i] = output_list[i][['user', 'item']]"
   ]
  },
  {
   "cell_type": "code",
   "execution_count": 31,
   "metadata": {},
   "outputs": [],
   "source": [
    "df_pivoted = merge_df.groupby('user')['item'].apply(list).reset_index()\n",
    "temp_list = []\n",
    "for i in range(len(output_list)):\n",
    "    temp_list.append(output_list[i].groupby('user')['item'].apply(list).reset_index())"
   ]
  },
  {
   "cell_type": "code",
   "execution_count": 32,
   "metadata": {},
   "outputs": [
    {
     "data": {
      "text/html": [
       "<div>\n",
       "<style scoped>\n",
       "    .dataframe tbody tr th:only-of-type {\n",
       "        vertical-align: middle;\n",
       "    }\n",
       "\n",
       "    .dataframe tbody tr th {\n",
       "        vertical-align: top;\n",
       "    }\n",
       "\n",
       "    .dataframe thead th {\n",
       "        text-align: right;\n",
       "    }\n",
       "</style>\n",
       "<table border=\"1\" class=\"dataframe\">\n",
       "  <thead>\n",
       "    <tr style=\"text-align: right;\">\n",
       "      <th></th>\n",
       "      <th>user</th>\n",
       "      <th>item</th>\n",
       "    </tr>\n",
       "  </thead>\n",
       "  <tbody>\n",
       "    <tr>\n",
       "      <th>0</th>\n",
       "      <td>11</td>\n",
       "      <td>[4370, 4886, 40815, 32587, 47, 8961, 7373, 2, ...</td>\n",
       "    </tr>\n",
       "    <tr>\n",
       "      <th>1</th>\n",
       "      <td>14</td>\n",
       "      <td>[1198, 2011, 1223, 919, 4857, 588, 1907, 4963,...</td>\n",
       "    </tr>\n",
       "    <tr>\n",
       "      <th>2</th>\n",
       "      <td>18</td>\n",
       "      <td>[1193, 296, 4235, 2324, 5995, 8873, 50, 2571, ...</td>\n",
       "    </tr>\n",
       "    <tr>\n",
       "      <th>3</th>\n",
       "      <td>25</td>\n",
       "      <td>[1270, 7153, 2762, 1073, 47, 1259, 2997, 1, 19...</td>\n",
       "    </tr>\n",
       "    <tr>\n",
       "      <th>4</th>\n",
       "      <td>31</td>\n",
       "      <td>[6377, 34405, 79132, 8360, 91542, 68358, 68954...</td>\n",
       "    </tr>\n",
       "    <tr>\n",
       "      <th>...</th>\n",
       "      <td>...</td>\n",
       "      <td>...</td>\n",
       "    </tr>\n",
       "    <tr>\n",
       "      <th>31355</th>\n",
       "      <td>138473</td>\n",
       "      <td>[5952, 7438, 778, 593, 7361, 48394, 50, 356, 3...</td>\n",
       "    </tr>\n",
       "    <tr>\n",
       "      <th>31356</th>\n",
       "      <td>138475</td>\n",
       "      <td>[930, 2203, 2726, 3307, 1945, 5291, 8491, 8228...</td>\n",
       "    </tr>\n",
       "    <tr>\n",
       "      <th>31357</th>\n",
       "      <td>138486</td>\n",
       "      <td>[1097, 8368, 589, 5679, 8957, 588, 8636, 377, ...</td>\n",
       "    </tr>\n",
       "    <tr>\n",
       "      <th>31358</th>\n",
       "      <td>138492</td>\n",
       "      <td>[260, 296, 2502, 608, 3897, 8961, 2918, 5618, ...</td>\n",
       "    </tr>\n",
       "    <tr>\n",
       "      <th>31359</th>\n",
       "      <td>138493</td>\n",
       "      <td>[551, 2628, 1270, 110, 8961, 5349, 32587, 8970...</td>\n",
       "    </tr>\n",
       "  </tbody>\n",
       "</table>\n",
       "<p>31360 rows × 2 columns</p>\n",
       "</div>"
      ],
      "text/plain": [
       "         user                                               item\n",
       "0          11  [4370, 4886, 40815, 32587, 47, 8961, 7373, 2, ...\n",
       "1          14  [1198, 2011, 1223, 919, 4857, 588, 1907, 4963,...\n",
       "2          18  [1193, 296, 4235, 2324, 5995, 8873, 50, 2571, ...\n",
       "3          25  [1270, 7153, 2762, 1073, 47, 1259, 2997, 1, 19...\n",
       "4          31  [6377, 34405, 79132, 8360, 91542, 68358, 68954...\n",
       "...       ...                                                ...\n",
       "31355  138473  [5952, 7438, 778, 593, 7361, 48394, 50, 356, 3...\n",
       "31356  138475  [930, 2203, 2726, 3307, 1945, 5291, 8491, 8228...\n",
       "31357  138486  [1097, 8368, 589, 5679, 8957, 588, 8636, 377, ...\n",
       "31358  138492  [260, 296, 2502, 608, 3897, 8961, 2918, 5618, ...\n",
       "31359  138493  [551, 2628, 1270, 110, 8961, 5349, 32587, 8970...\n",
       "\n",
       "[31360 rows x 2 columns]"
      ]
     },
     "execution_count": 32,
     "metadata": {},
     "output_type": "execute_result"
    }
   ],
   "source": [
    "df_pivoted\n",
    "temp_list[1]"
   ]
  },
  {
   "cell_type": "code",
   "execution_count": 33,
   "metadata": {},
   "outputs": [
    {
     "name": "stderr",
     "output_type": "stream",
     "text": [
      "100%|██████████| 31360/31360 [00:31<00:00, 1011.03it/s]\n"
     ]
    }
   ],
   "source": [
    "for user in tqdm(user_list):\n",
    "    item_list = []\n",
    "    pivot_list = df_pivoted[df_pivoted['user'] == user]['item'].values\n",
    "    if len(pivot_list) > 0:\n",
    "        pivot_count = len(pivot_list[0])\n",
    "        item_list = pivot_list[0]\n",
    "        for i in range(len(temp_list)):\n",
    "            add_count = math.ceil((10 - pivot_count) * weight_list[i])\n",
    "            temp = temp_list[i][temp_list[i]['user'] == user]['item'].values[0]\n",
    "            for idx in range(len(item_list)):\n",
    "                if item_list[idx] in temp:\n",
    "                    temp.remove(item_list[idx])\n",
    "            item_list += temp[:add_count]\n",
    "    else:\n",
    "        for i in range(len(temp_list)):\n",
    "            add_count = int(weight_list[i] * 10)\n",
    "            temp = temp_list[i][temp_list[i]['user'] == user]['item'].values[0]\n",
    "            item_list += temp[:add_count]\n",
    "        df_pivoted = pd.concat([df_pivoted, pd.DataFrame([[user, item_list]], columns=['user', 'item'])], axis=0)"
   ]
  },
  {
   "cell_type": "code",
   "execution_count": 34,
   "metadata": {},
   "outputs": [
    {
     "data": {
      "text/html": [
       "<div>\n",
       "<style scoped>\n",
       "    .dataframe tbody tr th:only-of-type {\n",
       "        vertical-align: middle;\n",
       "    }\n",
       "\n",
       "    .dataframe tbody tr th {\n",
       "        vertical-align: top;\n",
       "    }\n",
       "\n",
       "    .dataframe thead th {\n",
       "        text-align: right;\n",
       "    }\n",
       "</style>\n",
       "<table border=\"1\" class=\"dataframe\">\n",
       "  <thead>\n",
       "    <tr style=\"text-align: right;\">\n",
       "      <th></th>\n",
       "      <th>user</th>\n",
       "      <th>item</th>\n",
       "    </tr>\n",
       "  </thead>\n",
       "  <tbody>\n",
       "    <tr>\n",
       "      <th>0</th>\n",
       "      <td>11</td>\n",
       "      <td>[4370, 2, 4886, 37386, 3986, 2054, 8861, 40815...</td>\n",
       "    </tr>\n",
       "    <tr>\n",
       "      <th>1</th>\n",
       "      <td>14</td>\n",
       "      <td>[1198, 1907, 919, 4016, 6539, 2398, 2762, 2011...</td>\n",
       "    </tr>\n",
       "    <tr>\n",
       "      <th>2</th>\n",
       "      <td>18</td>\n",
       "      <td>[46578, 4235, 296, 1193, 1446, 912, 27815, 232...</td>\n",
       "    </tr>\n",
       "    <tr>\n",
       "      <th>3</th>\n",
       "      <td>25</td>\n",
       "      <td>[1259, 1270, 2997, 1073, 47, 2762, 2291, 608, ...</td>\n",
       "    </tr>\n",
       "    <tr>\n",
       "      <th>4</th>\n",
       "      <td>31</td>\n",
       "      <td>[79132, 68954, 7454, 5882, 70336, 5313, 6377, ...</td>\n",
       "    </tr>\n",
       "    <tr>\n",
       "      <th>...</th>\n",
       "      <td>...</td>\n",
       "      <td>...</td>\n",
       "    </tr>\n",
       "    <tr>\n",
       "      <th>0</th>\n",
       "      <td>137202</td>\n",
       "      <td>[8125, 8167, 2935, 25866, 1934, 41997, 64839, ...</td>\n",
       "    </tr>\n",
       "    <tr>\n",
       "      <th>0</th>\n",
       "      <td>137280</td>\n",
       "      <td>[3200, 6773, 3606, 1394, 5022, 1254, 1240, 260...</td>\n",
       "    </tr>\n",
       "    <tr>\n",
       "      <th>0</th>\n",
       "      <td>137581</td>\n",
       "      <td>[5291, 6852, 7116, 903, 2019, 5952, 1089, 4226...</td>\n",
       "    </tr>\n",
       "    <tr>\n",
       "      <th>0</th>\n",
       "      <td>137675</td>\n",
       "      <td>[8169, 1503, 2539, 1367, 6658, 924, 7566, 1918...</td>\n",
       "    </tr>\n",
       "    <tr>\n",
       "      <th>0</th>\n",
       "      <td>138397</td>\n",
       "      <td>[3827, 5463, 2377, 3745, 6959, 2628, 2393, 135...</td>\n",
       "    </tr>\n",
       "  </tbody>\n",
       "</table>\n",
       "<p>31360 rows × 2 columns</p>\n",
       "</div>"
      ],
      "text/plain": [
       "      user                                               item\n",
       "0       11  [4370, 2, 4886, 37386, 3986, 2054, 8861, 40815...\n",
       "1       14  [1198, 1907, 919, 4016, 6539, 2398, 2762, 2011...\n",
       "2       18  [46578, 4235, 296, 1193, 1446, 912, 27815, 232...\n",
       "3       25  [1259, 1270, 2997, 1073, 47, 2762, 2291, 608, ...\n",
       "4       31  [79132, 68954, 7454, 5882, 70336, 5313, 6377, ...\n",
       "..     ...                                                ...\n",
       "0   137202  [8125, 8167, 2935, 25866, 1934, 41997, 64839, ...\n",
       "0   137280  [3200, 6773, 3606, 1394, 5022, 1254, 1240, 260...\n",
       "0   137581  [5291, 6852, 7116, 903, 2019, 5952, 1089, 4226...\n",
       "0   137675  [8169, 1503, 2539, 1367, 6658, 924, 7566, 1918...\n",
       "0   138397  [3827, 5463, 2377, 3745, 6959, 2628, 2393, 135...\n",
       "\n",
       "[31360 rows x 2 columns]"
      ]
     },
     "execution_count": 34,
     "metadata": {},
     "output_type": "execute_result"
    }
   ],
   "source": [
    "df_pivoted"
   ]
  },
  {
   "cell_type": "code",
   "execution_count": 35,
   "metadata": {},
   "outputs": [],
   "source": [
    "export = df_pivoted.explode('item').reset_index(drop=True)"
   ]
  },
  {
   "cell_type": "code",
   "execution_count": 38,
   "metadata": {},
   "outputs": [],
   "source": [
    "export = export.groupby('user').head(10)"
   ]
  },
  {
   "cell_type": "code",
   "execution_count": 39,
   "metadata": {},
   "outputs": [],
   "source": [
    "export.to_csv(os.path.join(args.result_path, 'submit_data_weight.csv'), index=False)"
   ]
  },
  {
   "cell_type": "code",
   "execution_count": null,
   "metadata": {},
   "outputs": [],
   "source": []
  }
 ],
 "metadata": {
  "kernelspec": {
   "display_name": "movie",
   "language": "python",
   "name": "python3"
  },
  "language_info": {
   "codemirror_mode": {
    "name": "ipython",
    "version": 3
   },
   "file_extension": ".py",
   "mimetype": "text/x-python",
   "name": "python",
   "nbconvert_exporter": "python",
   "pygments_lexer": "ipython3",
   "version": "3.1.0"
  }
 },
 "nbformat": 4,
 "nbformat_minor": 2
}
