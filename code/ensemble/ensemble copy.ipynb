{
 "cells": [
  {
   "cell_type": "code",
   "execution_count": 18,
   "metadata": {},
   "outputs": [],
   "source": [
    "import os\n",
    "import argparse\n",
    "import pandas as pd\n",
    "import math\n",
    "from tqdm import tqdm"
   ]
  },
  {
   "cell_type": "code",
   "execution_count": 19,
   "metadata": {},
   "outputs": [],
   "source": [
    "parser = argparse.ArgumentParser(description=\"parser\")\n",
    "arg = parser.add_argument\n",
    "\n",
    "arg(\"--file_path\", \"-fp\", type=str, default=\"./ensembles/\", help='앙상블 파일 열기 경로')\n",
    "arg(\"--result_path\", \"-rp\", type=str, default=\"./submit/\", help='앙상블 결과 저장 경로')\n",
    "arg(\"--files\", \"-f\", nargs=\"+\", default=\"EASE.csv,ADMMSLIM.csv,MultiDAE.csv\", type=lambda s: [item for item in s.split(\",\")], help=\"앙상블 파일명(쉼표 구분)\")\n",
    "arg(\"--weight\", \"-w\", nargs=\"+\", default=\"3,2,2\", type=lambda s: [float(item) for item in s.split(\",\")], help=\"앙상블 모델 가중치 설정\")\n",
    "\n",
    "args = parser.parse_args([])"
   ]
  },
  {
   "cell_type": "code",
   "execution_count": 20,
   "metadata": {},
   "outputs": [],
   "source": [
    "os.makedirs(args.file_path, exist_ok=True)  # 읽어들일 파일 경로\n",
    "os.makedirs(args.result_path, exist_ok=True)  # 결과 파일 저장 경로"
   ]
  },
  {
   "cell_type": "code",
   "execution_count": 21,
   "metadata": {},
   "outputs": [
    {
     "data": {
      "text/plain": [
       "[3.0, 2.0, 2.0]"
      ]
     },
     "execution_count": 21,
     "metadata": {},
     "output_type": "execute_result"
    }
   ],
   "source": [
    "args.weight"
   ]
  },
  {
   "cell_type": "code",
   "execution_count": 22,
   "metadata": {},
   "outputs": [],
   "source": [
    "output_path = [args.file_path + file_name for file_name in args.files]  # 앙상블 할 파일 경로 리스트\n",
    "output_list = [pd.read_csv(path) for path in output_path]  # 앙상블 할 파일 리스트\n",
    "output_frame = pd.read_csv(output_path[0]).iloc[:, 0]"
   ]
  },
  {
   "cell_type": "code",
   "execution_count": 23,
   "metadata": {},
   "outputs": [],
   "source": [
    "user_list = output_frame.unique().tolist()"
   ]
  },
  {
   "cell_type": "code",
   "execution_count": 24,
   "metadata": {},
   "outputs": [],
   "source": [
    "weight_list = []\n",
    "for weight in args.weight:\n",
    "    weight = weight\n",
    "    weight_list.append(weight)"
   ]
  },
  {
   "cell_type": "code",
   "execution_count": 25,
   "metadata": {},
   "outputs": [],
   "source": [
    "concat_df = pd.DataFrame(columns=['user', 'item'])\n",
    "# 0번파일, 1번파일을 rank로 정렬하여 weight_list 비율로 뽑는다.\n",
    "for output in output_list:\n",
    "    concat_df = pd.concat([concat_df, output], axis=0)"
   ]
  },
  {
   "cell_type": "code",
   "execution_count": 26,
   "metadata": {},
   "outputs": [],
   "source": [
    "# duplication_list = []\n",
    "concat_df['count'] = 1"
   ]
  },
  {
   "cell_type": "code",
   "execution_count": 27,
   "metadata": {},
   "outputs": [],
   "source": [
    "concat_df = concat_df.groupby(['user', 'item']).count().reset_index()\n",
    "concat_df = concat_df[concat_df['count'] > len(output_list) - 1]"
   ]
  },
  {
   "cell_type": "code",
   "execution_count": 28,
   "metadata": {},
   "outputs": [
    {
     "data": {
      "text/html": [
       "<div>\n",
       "<style scoped>\n",
       "    .dataframe tbody tr th:only-of-type {\n",
       "        vertical-align: middle;\n",
       "    }\n",
       "\n",
       "    .dataframe tbody tr th {\n",
       "        vertical-align: top;\n",
       "    }\n",
       "\n",
       "    .dataframe thead th {\n",
       "        text-align: right;\n",
       "    }\n",
       "</style>\n",
       "<table border=\"1\" class=\"dataframe\">\n",
       "  <thead>\n",
       "    <tr style=\"text-align: right;\">\n",
       "      <th></th>\n",
       "      <th>user</th>\n",
       "      <th>item</th>\n",
       "      <th>count</th>\n",
       "    </tr>\n",
       "  </thead>\n",
       "  <tbody>\n",
       "    <tr>\n",
       "      <th>0</th>\n",
       "      <td>11</td>\n",
       "      <td>2</td>\n",
       "      <td>3</td>\n",
       "    </tr>\n",
       "    <tr>\n",
       "      <th>6</th>\n",
       "      <td>11</td>\n",
       "      <td>4370</td>\n",
       "      <td>3</td>\n",
       "    </tr>\n",
       "    <tr>\n",
       "      <th>7</th>\n",
       "      <td>11</td>\n",
       "      <td>4886</td>\n",
       "      <td>3</td>\n",
       "    </tr>\n",
       "    <tr>\n",
       "      <th>20</th>\n",
       "      <td>14</td>\n",
       "      <td>919</td>\n",
       "      <td>3</td>\n",
       "    </tr>\n",
       "    <tr>\n",
       "      <th>22</th>\n",
       "      <td>14</td>\n",
       "      <td>1198</td>\n",
       "      <td>3</td>\n",
       "    </tr>\n",
       "    <tr>\n",
       "      <th>...</th>\n",
       "      <td>...</td>\n",
       "      <td>...</td>\n",
       "      <td>...</td>\n",
       "    </tr>\n",
       "    <tr>\n",
       "      <th>566203</th>\n",
       "      <td>138492</td>\n",
       "      <td>608</td>\n",
       "      <td>3</td>\n",
       "    </tr>\n",
       "    <tr>\n",
       "      <th>566208</th>\n",
       "      <td>138492</td>\n",
       "      <td>2502</td>\n",
       "      <td>3</td>\n",
       "    </tr>\n",
       "    <tr>\n",
       "      <th>566209</th>\n",
       "      <td>138492</td>\n",
       "      <td>2918</td>\n",
       "      <td>3</td>\n",
       "    </tr>\n",
       "    <tr>\n",
       "      <th>566211</th>\n",
       "      <td>138492</td>\n",
       "      <td>3897</td>\n",
       "      <td>3</td>\n",
       "    </tr>\n",
       "    <tr>\n",
       "      <th>566231</th>\n",
       "      <td>138493</td>\n",
       "      <td>5349</td>\n",
       "      <td>3</td>\n",
       "    </tr>\n",
       "  </tbody>\n",
       "</table>\n",
       "<p>109303 rows × 3 columns</p>\n",
       "</div>"
      ],
      "text/plain": [
       "          user  item  count\n",
       "0           11     2      3\n",
       "6           11  4370      3\n",
       "7           11  4886      3\n",
       "20          14   919      3\n",
       "22          14  1198      3\n",
       "...        ...   ...    ...\n",
       "566203  138492   608      3\n",
       "566208  138492  2502      3\n",
       "566209  138492  2918      3\n",
       "566211  138492  3897      3\n",
       "566231  138493  5349      3\n",
       "\n",
       "[109303 rows x 3 columns]"
      ]
     },
     "execution_count": 28,
     "metadata": {},
     "output_type": "execute_result"
    }
   ],
   "source": [
    "concat_df"
   ]
  },
  {
   "cell_type": "code",
   "execution_count": 29,
   "metadata": {},
   "outputs": [],
   "source": [
    "concat_df = concat_df.groupby('user')['item'].apply(list).reset_index()\n",
    "temp_list = []\n",
    "for i in range(len(output_list)):\n",
    "    temp_list.append(output_list[i].groupby('user')['item'].apply(list).reset_index())"
   ]
  },
  {
   "cell_type": "code",
   "execution_count": 33,
   "metadata": {},
   "outputs": [
    {
     "data": {
      "text/html": [
       "<div>\n",
       "<style scoped>\n",
       "    .dataframe tbody tr th:only-of-type {\n",
       "        vertical-align: middle;\n",
       "    }\n",
       "\n",
       "    .dataframe tbody tr th {\n",
       "        vertical-align: top;\n",
       "    }\n",
       "\n",
       "    .dataframe thead th {\n",
       "        text-align: right;\n",
       "    }\n",
       "</style>\n",
       "<table border=\"1\" class=\"dataframe\">\n",
       "  <thead>\n",
       "    <tr style=\"text-align: right;\">\n",
       "      <th></th>\n",
       "      <th>user</th>\n",
       "      <th>item</th>\n",
       "    </tr>\n",
       "  </thead>\n",
       "  <tbody>\n",
       "    <tr>\n",
       "      <th>0</th>\n",
       "      <td>11</td>\n",
       "      <td>[2, 4370, 4886]</td>\n",
       "    </tr>\n",
       "    <tr>\n",
       "      <th>1</th>\n",
       "      <td>14</td>\n",
       "      <td>[919, 1198, 1907]</td>\n",
       "    </tr>\n",
       "    <tr>\n",
       "      <th>2</th>\n",
       "      <td>18</td>\n",
       "      <td>[296, 1193, 4235]</td>\n",
       "    </tr>\n",
       "    <tr>\n",
       "      <th>3</th>\n",
       "      <td>25</td>\n",
       "      <td>[47, 1073, 1270, 2329, 2762]</td>\n",
       "    </tr>\n",
       "    <tr>\n",
       "      <th>4</th>\n",
       "      <td>31</td>\n",
       "      <td>[68954, 79132]</td>\n",
       "    </tr>\n",
       "    <tr>\n",
       "      <th>...</th>\n",
       "      <td>...</td>\n",
       "      <td>...</td>\n",
       "    </tr>\n",
       "    <tr>\n",
       "      <th>30097</th>\n",
       "      <td>138473</td>\n",
       "      <td>[50, 318, 593, 5952, 7361, 7438, 48394]</td>\n",
       "    </tr>\n",
       "    <tr>\n",
       "      <th>30098</th>\n",
       "      <td>138475</td>\n",
       "      <td>[930, 2726, 3307, 8491]</td>\n",
       "    </tr>\n",
       "    <tr>\n",
       "      <th>30099</th>\n",
       "      <td>138486</td>\n",
       "      <td>[5679, 6539, 8957]</td>\n",
       "    </tr>\n",
       "    <tr>\n",
       "      <th>30100</th>\n",
       "      <td>138492</td>\n",
       "      <td>[296, 608, 2502, 2918, 3897]</td>\n",
       "    </tr>\n",
       "    <tr>\n",
       "      <th>30101</th>\n",
       "      <td>138493</td>\n",
       "      <td>[5349]</td>\n",
       "    </tr>\n",
       "  </tbody>\n",
       "</table>\n",
       "<p>30102 rows × 2 columns</p>\n",
       "</div>"
      ],
      "text/plain": [
       "         user                                     item\n",
       "0          11                          [2, 4370, 4886]\n",
       "1          14                        [919, 1198, 1907]\n",
       "2          18                        [296, 1193, 4235]\n",
       "3          25             [47, 1073, 1270, 2329, 2762]\n",
       "4          31                           [68954, 79132]\n",
       "...       ...                                      ...\n",
       "30097  138473  [50, 318, 593, 5952, 7361, 7438, 48394]\n",
       "30098  138475                  [930, 2726, 3307, 8491]\n",
       "30099  138486                       [5679, 6539, 8957]\n",
       "30100  138492             [296, 608, 2502, 2918, 3897]\n",
       "30101  138493                                   [5349]\n",
       "\n",
       "[30102 rows x 2 columns]"
      ]
     },
     "execution_count": 33,
     "metadata": {},
     "output_type": "execute_result"
    }
   ],
   "source": [
    "concat_df"
   ]
  },
  {
   "cell_type": "code",
   "execution_count": 13,
   "metadata": {},
   "outputs": [],
   "source": [
    "final_list = []\n",
    "user = 11\n",
    "confirm_list = concat_df[concat_df['user'] == user]['item'].values\n",
    "if len(confirm_list) > 0:\n",
    "    confirm_list = concat_df[concat_df['user'] == 11]['item'].values[0]\n",
    "    decision_list = []\n",
    "    for temp in temp_list:\n",
    "        item = temp[temp['user'] == 11]['item'].values[0]\n",
    "        for confirm in confirm_list:\n",
    "            if confirm in item:\n",
    "                item.remove(confirm)\n",
    "        for weight in weight_list:\n",
    "            for i in range(len(item)):\n",
    "                decision_list.append([item[i], weight])"
   ]
  },
  {
   "cell_type": "code",
   "execution_count": 14,
   "metadata": {},
   "outputs": [
    {
     "data": {
      "text/plain": [
       "[[47, 3.0],\n",
       " [40815, 3.0],\n",
       " [33004, 3.0],\n",
       " [7438, 3.0],\n",
       " [7373, 3.0],\n",
       " [8961, 3.0],\n",
       " [32587, 3.0],\n",
       " [47, 2.0],\n",
       " [40815, 2.0],\n",
       " [33004, 2.0],\n",
       " [7438, 2.0],\n",
       " [7373, 2.0],\n",
       " [8961, 2.0],\n",
       " [32587, 2.0],\n",
       " [47, 2.0],\n",
       " [40815, 2.0],\n",
       " [33004, 2.0],\n",
       " [7438, 2.0],\n",
       " [7373, 2.0],\n",
       " [8961, 2.0],\n",
       " [32587, 2.0],\n",
       " [40815, 3.0],\n",
       " [7373, 3.0],\n",
       " [8961, 3.0],\n",
       " [32587, 3.0],\n",
       " [7438, 3.0],\n",
       " [3703, 3.0],\n",
       " [47, 3.0],\n",
       " [40815, 2.0],\n",
       " [7373, 2.0],\n",
       " [8961, 2.0],\n",
       " [32587, 2.0],\n",
       " [7438, 2.0],\n",
       " [3703, 2.0],\n",
       " [47, 2.0],\n",
       " [40815, 2.0],\n",
       " [7373, 2.0],\n",
       " [8961, 2.0],\n",
       " [32587, 2.0],\n",
       " [7438, 2.0],\n",
       " [3703, 2.0],\n",
       " [47, 2.0],\n",
       " [3986, 3.0],\n",
       " [55232, 3.0],\n",
       " [1831, 3.0],\n",
       " [61350, 3.0],\n",
       " [37386, 3.0],\n",
       " [8861, 3.0],\n",
       " [2054, 3.0],\n",
       " [3986, 2.0],\n",
       " [55232, 2.0],\n",
       " [1831, 2.0],\n",
       " [61350, 2.0],\n",
       " [37386, 2.0],\n",
       " [8861, 2.0],\n",
       " [2054, 2.0],\n",
       " [3986, 2.0],\n",
       " [55232, 2.0],\n",
       " [1831, 2.0],\n",
       " [61350, 2.0],\n",
       " [37386, 2.0],\n",
       " [8861, 2.0],\n",
       " [2054, 2.0]]"
      ]
     },
     "execution_count": 14,
     "metadata": {},
     "output_type": "execute_result"
    }
   ],
   "source": [
    "decision_list"
   ]
  },
  {
   "cell_type": "code",
   "execution_count": 16,
   "metadata": {},
   "outputs": [],
   "source": [
    "temp_dic = {}\n",
    "for k, v in decision_list:\n",
    "    if k in temp_dic:\n",
    "        temp_dic[k] = temp_dic[k] + v\n",
    "    else:\n",
    "        temp_dic[k] = v"
   ]
  },
  {
   "cell_type": "code",
   "execution_count": 17,
   "metadata": {},
   "outputs": [
    {
     "data": {
      "text/plain": [
       "{47: 14.0,\n",
       " 40815: 14.0,\n",
       " 33004: 7.0,\n",
       " 7438: 14.0,\n",
       " 7373: 14.0,\n",
       " 8961: 14.0,\n",
       " 32587: 14.0,\n",
       " 3703: 7.0,\n",
       " 3986: 7.0,\n",
       " 55232: 7.0,\n",
       " 1831: 7.0,\n",
       " 61350: 7.0,\n",
       " 37386: 7.0,\n",
       " 8861: 7.0,\n",
       " 2054: 7.0}"
      ]
     },
     "execution_count": 17,
     "metadata": {},
     "output_type": "execute_result"
    }
   ],
   "source": [
    "temp_dic"
   ]
  },
  {
   "cell_type": "code",
   "execution_count": 161,
   "metadata": {},
   "outputs": [],
   "source": [
    "temp_list = [[k, v] for k, v in temp_dic.items()]\n",
    "temp_list.sort(key=lambda x:-x[1])"
   ]
  },
  {
   "cell_type": "code",
   "execution_count": 162,
   "metadata": {},
   "outputs": [],
   "source": [
    "temp_list = [k for k, v in temp_list]"
   ]
  },
  {
   "cell_type": "code",
   "execution_count": 163,
   "metadata": {},
   "outputs": [
    {
     "data": {
      "text/plain": [
       "[47,\n",
       " 40815,\n",
       " 7438,\n",
       " 7373,\n",
       " 8961,\n",
       " 32587,\n",
       " 33004,\n",
       " 3703,\n",
       " 3986,\n",
       " 55232,\n",
       " 1831,\n",
       " 61350,\n",
       " 37386,\n",
       " 8861,\n",
       " 2054]"
      ]
     },
     "execution_count": 163,
     "metadata": {},
     "output_type": "execute_result"
    }
   ],
   "source": [
    "temp_list"
   ]
  },
  {
   "cell_type": "code",
   "execution_count": 164,
   "metadata": {},
   "outputs": [
    {
     "data": {
      "text/plain": [
       "(11, [2, 4370, 4886, 47, 40815, 7438, 7373, 8961, 32587, 33004])"
      ]
     },
     "execution_count": 164,
     "metadata": {},
     "output_type": "execute_result"
    }
   ],
   "source": [
    "user, (confirm_list + temp_list)[:10]"
   ]
  },
  {
   "cell_type": "code",
   "execution_count": 31,
   "metadata": {},
   "outputs": [
    {
     "name": "stderr",
     "output_type": "stream",
     "text": [
      "  0%|          | 66/31360 [00:00<01:06, 467.71it/s]\n"
     ]
    },
    {
     "ename": "ValueError",
     "evalue": "operands could not be broadcast together with shapes (0,) (22,) ",
     "output_type": "error",
     "traceback": [
      "\u001b[0;31m---------------------------------------------------------------------------\u001b[0m",
      "\u001b[0;31mValueError\u001b[0m                                Traceback (most recent call last)",
      "Cell \u001b[0;32mIn[31], line 41\u001b[0m\n\u001b[1;32m     39\u001b[0m item_list\u001b[38;5;241m.\u001b[39msort(key\u001b[38;5;241m=\u001b[39m\u001b[38;5;28;01mlambda\u001b[39;00m x:\u001b[38;5;241m-\u001b[39mx[\u001b[38;5;241m1\u001b[39m])\n\u001b[1;32m     40\u001b[0m item_list \u001b[38;5;241m=\u001b[39m [k \u001b[38;5;28;01mfor\u001b[39;00m k, v \u001b[38;5;129;01min\u001b[39;00m item_list]\n\u001b[0;32m---> 41\u001b[0m final_list\u001b[38;5;241m.\u001b[39mappend([user, (\u001b[43mconfirm_list\u001b[49m\u001b[43m \u001b[49m\u001b[38;5;241;43m+\u001b[39;49m\u001b[43m \u001b[49m\u001b[43mitem_list\u001b[49m)[:\u001b[38;5;241m10\u001b[39m]])\n",
      "\u001b[0;31mValueError\u001b[0m: operands could not be broadcast together with shapes (0,) (22,) "
     ]
    }
   ],
   "source": [
    "final_list = []\n",
    "for user in tqdm(user_list):\n",
    "    confirm_list = concat_df[concat_df['user'] == user]['item'].values\n",
    "    if len(confirm_list) > 0:\n",
    "        confirm_list = concat_df[concat_df['user'] == user]['item'].values[0]\n",
    "        decision_list = []\n",
    "        for temp in temp_list:\n",
    "            item = temp[temp['user'] == user]['item'].values[0]\n",
    "            for confirm in confirm_list:\n",
    "                if confirm in item:\n",
    "                    item.remove(confirm)\n",
    "            for weight in weight_list:\n",
    "                for i in range(len(item)):\n",
    "                    decision_list.append([item[i], weight])\n",
    "        temp_dic = {}\n",
    "        for k, v in decision_list:\n",
    "            if k in temp_dic:\n",
    "                temp_dic[k] = temp_dic[k] + v\n",
    "            else:\n",
    "                temp_dic[k] = v\n",
    "        item_list = [[k, v] for k, v in temp_dic.items()]\n",
    "        item_list.sort(key=lambda x:-x[1])\n",
    "        item_list = [k for k, v in item_list]\n",
    "        final_list.append([user, (confirm_list + item_list)[:10]])\n",
    "    else:\n",
    "        decision_list = []\n",
    "        for temp in temp_list:\n",
    "            item = temp[temp['user'] == user]['item'].values[0]\n",
    "            for weight in weight_list:\n",
    "                for i in range(len(item)):\n",
    "                    decision_list.append([item[i], weight])\n",
    "        temp_dic = {}\n",
    "        for k, v in decision_list:\n",
    "            if k in temp_dic:\n",
    "                temp_dic[k] = temp_dic[k] + v\n",
    "            else:\n",
    "                temp_dic[k] = v\n",
    "        item_list = [[k, v] for k, v in temp_dic.items()]\n",
    "        item_list.sort(key=lambda x:-x[1])\n",
    "        item_list = [k for k, v in item_list]\n",
    "        final_list.append([user, (confirm_list + item_list)[:10]])"
   ]
  }
 ],
 "metadata": {
  "kernelspec": {
   "display_name": "movie",
   "language": "python",
   "name": "python3"
  },
  "language_info": {
   "codemirror_mode": {
    "name": "ipython",
    "version": 3
   },
   "file_extension": ".py",
   "mimetype": "text/x-python",
   "name": "python",
   "nbconvert_exporter": "python",
   "pygments_lexer": "ipython3",
   "version": "3.10.13"
  }
 },
 "nbformat": 4,
 "nbformat_minor": 2
}
